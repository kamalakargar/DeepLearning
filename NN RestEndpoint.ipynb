{
 "cells": [
  {
   "cell_type": "code",
   "execution_count": null,
   "metadata": {},
   "outputs": [
    {
     "name": "stderr",
     "output_type": "stream",
     "text": [
      "C:\\Users\\kamalakar\\Anaconda3\\lib\\site-packages\\h5py\\__init__.py:36: FutureWarning: Conversion of the second argument of issubdtype from `float` to `np.floating` is deprecated. In future, it will be treated as `np.float64 == np.dtype(float).type`.\n",
      "  from ._conv import register_converters as _register_converters\n",
      "Using TensorFlow backend.\n"
     ]
    },
    {
     "name": "stdout",
     "output_type": "stream",
     "text": [
      "* Loading Keras model and Flask starting server...please wait until server has fully started\n",
      "WARNING:tensorflow:From C:\\Users\\kamalakar\\Anaconda3\\lib\\site-packages\\tensorflow\\python\\framework\\op_def_library.py:263: colocate_with (from tensorflow.python.framework.ops) is deprecated and will be removed in a future version.\n",
      "Instructions for updating:\n",
      "Colocations handled automatically by placer.\n",
      "WARNING:tensorflow:From C:\\Users\\kamalakar\\Anaconda3\\lib\\site-packages\\tensorflow\\python\\ops\\math_ops.py:3066: to_int32 (from tensorflow.python.ops.math_ops) is deprecated and will be removed in a future version.\n",
      "Instructions for updating:\n",
      "Use tf.cast instead.\n"
     ]
    },
    {
     "name": "stderr",
     "output_type": "stream",
     "text": [
      " * Running on http://localhost:9000/ (Press CTRL+C to quit)\n",
      "C:\\Users\\kamalakar\\Anaconda3\\lib\\site-packages\\ipykernel_launcher.py:51: RuntimeWarning: invalid value encountered in greater\n",
      "127.0.0.1 - - [21/May/2019 02:47:06] \"\u001b[37mGET /predict?name=Viserys%20II%20Targaryen&male=1&book1=0&book2=0&book3=0&book4=0&book5=0&isMarried=0&isNoble=0&numDeadRelations=11&boolDeadRelations=1&isPopular=1 HTTP/1.1\u001b[0m\" 200 -\n"
     ]
    }
   ],
   "source": [
    "import flask\n",
    "import numpy as np\n",
    "import tensorflow as tf\n",
    "from keras.models import load_model\n",
    "from werkzeug.serving import run_simple\n",
    "\n",
    "# initialize our Flask application and the Keras model\n",
    "app = flask.Flask(__name__)\n",
    "\n",
    "def init():\n",
    "    global model,graph\n",
    "    # load the pre-trained Keras model\n",
    "    model = load_model('models/gotCharactersDeathPredictions.h5')\n",
    "    graph = tf.get_default_graph()\n",
    "    # Getting Parameters\n",
    "\n",
    " \n",
    "def getParameters():\n",
    "    parameters = []\n",
    "    parameters.append(flask.request.args.get('male'))\n",
    "    parameters.append(flask.request.args.get('book1'))\n",
    "    parameters.append(flask.request.args.get('book2'))\n",
    "    parameters.append(flask.request.args.get('book3'))\n",
    "    parameters.append(flask.request.args.get('book4'))\n",
    "    parameters.append(flask.request.args.get('book5'))\n",
    "    parameters.append(flask.request.args.get('isMarried'))\n",
    "    parameters.append(flask.request.args.get('isNoble'))\n",
    "    parameters.append(flask.request.args.get('numDeadRelations'))\n",
    "    parameters.append(flask.request.args.get('boolDeadRelations'))\n",
    "    parameters.append(flask.request.args.get('isPopular'))\n",
    "    parameters.append(flask.request.args.get('popularity'))\n",
    "    return parameters\n",
    "\n",
    "# Cross origin support\n",
    "def sendResponse(responseObj):\n",
    "    response = flask.jsonify(responseObj)\n",
    "    response.headers.add('Access-Control-Allow-Origin', '*')\n",
    "    response.headers.add('Access-Control-Allow-Methods', 'GET')\n",
    "    response.headers.add('Access-Control-Allow-Headers', 'accept,content-type,Origin,X-Requested-With,Content-Type,access_token,Accept,Authorization,source')\n",
    "    response.headers.add('Access-Control-Allow-Credentials', True)\n",
    "    return response\n",
    "\n",
    "# API for prediction\n",
    "@app.route(\"/predict\", methods=[\"GET\"])\n",
    "def predict():\n",
    "    nameOfTheCharacter = flask.request.args.get('name')\n",
    "    parameters = getParameters()\n",
    "    inputFeature = np.asarray(parameters).reshape(1, 12)\n",
    "    with graph.as_default():\n",
    "        raw_prediction = model.predict(inputFeature)[0][0]\n",
    "    if raw_prediction > 0.5:\n",
    "        prediction = 'Alive'\n",
    "    else:\n",
    "        prediction = 'Dead'\n",
    "        return sendResponse({nameOfTheCharacter: prediction})\n",
    "\n",
    "\n",
    "# if this is the main thread of execution first load the model and then start the server\n",
    "if __name__ == \"__main__\":\n",
    "    print((\"* Loading Keras model and Flask starting server...\"\n",
    "\"please wait until server has fully started\"))\n",
    "    init()\n",
    "    run_simple('localhost', 9000, app)\n",
    "    \n"
   ]
  },
  {
   "cell_type": "code",
   "execution_count": null,
   "metadata": {},
   "outputs": [],
   "source": []
  },
  {
   "cell_type": "code",
   "execution_count": null,
   "metadata": {},
   "outputs": [],
   "source": []
  }
 ],
 "metadata": {
  "kernelspec": {
   "display_name": "Python 3",
   "language": "python",
   "name": "python3"
  },
  "language_info": {
   "codemirror_mode": {
    "name": "ipython",
    "version": 3
   },
   "file_extension": ".py",
   "mimetype": "text/x-python",
   "name": "python",
   "nbconvert_exporter": "python",
   "pygments_lexer": "ipython3",
   "version": "3.6.5"
  }
 },
 "nbformat": 4,
 "nbformat_minor": 2
}
